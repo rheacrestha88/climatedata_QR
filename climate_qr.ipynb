{
 "cells": [
  {
   "cell_type": "code",
   "execution_count": 2,
   "metadata": {},
   "outputs": [],
   "source": [
    "import pandas as pd \n",
    "import qrcode\n",
    "import json"
   ]
  },
  {
   "cell_type": "code",
   "execution_count": 3,
   "metadata": {},
   "outputs": [
    {
     "data": {
      "text/plain": [
       "[{'Months': 1, 'SSP2_45': 84.27},\n",
       " {'Months': 2, 'SSP2_45': 3.42},\n",
       " {'Months': 3, 'SSP2_45': 251.65},\n",
       " {'Months': 4, 'SSP2_45': 3.18},\n",
       " {'Months': 5, 'SSP2_45': 22.88},\n",
       " {'Months': 6, 'SSP2_45': 0.0},\n",
       " {'Months': 7, 'SSP2_45': 464.35},\n",
       " {'Months': 8, 'SSP2_45': 942.41},\n",
       " {'Months': 9, 'SSP2_45': 524.2},\n",
       " {'Months': 10, 'SSP2_45': 38.28},\n",
       " {'Months': 11, 'SSP2_45': 32.03},\n",
       " {'Months': 12, 'SSP2_45': 48.59}]"
      ]
     },
     "execution_count": 3,
     "metadata": {},
     "output_type": "execute_result"
    }
   ],
   "source": [
    "df = pd.read_excel('precipitation_monthly_data.xlsx')\n",
    "json_str = df.to_json(orient=\"records\")\n",
    "json_data = json.loads(json_str) # json to dict\n",
    "json_data\n"
   ]
  },
  {
   "cell_type": "code",
   "execution_count": 4,
   "metadata": {},
   "outputs": [],
   "source": [
    "for data in json_data:\n",
    "    qr = qrcode.QRCode (\n",
    "        version= 1, \n",
    "        box_size = 10, \n",
    "        border = 4\n",
    "        )\n",
    "\n",
    "    qr.add_data(data)\n",
    "\n",
    "    qr.make(fit = True)\n",
    "\n",
    "    img = qr.make_image(    \n",
    "    fill_color = 'mediumorchid',\n",
    "    back_color = 'white'\n",
    "        )\n",
    "    \n",
    "    img.save(f'qr_Months_{data[\"Months\"]}.png')"
   ]
  },
  {
   "cell_type": "code",
   "execution_count": null,
   "metadata": {},
   "outputs": [],
   "source": []
  }
 ],
 "metadata": {
  "kernelspec": {
   "display_name": "Python 3",
   "language": "python",
   "name": "python3"
  },
  "language_info": {
   "codemirror_mode": {
    "name": "ipython",
    "version": 3
   },
   "file_extension": ".py",
   "mimetype": "text/x-python",
   "name": "python",
   "nbconvert_exporter": "python",
   "pygments_lexer": "ipython3",
   "version": "3.12.1"
  }
 },
 "nbformat": 4,
 "nbformat_minor": 2
}
